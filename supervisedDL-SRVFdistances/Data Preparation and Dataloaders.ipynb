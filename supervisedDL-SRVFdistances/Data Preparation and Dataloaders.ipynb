{
  "nbformat": 4,
  "nbformat_minor": 0,
  "metadata": {
    "colab": {
      "provenance": [],
      "collapsed_sections": [],
      "machine_shape": "hm"
    },
    "kernelspec": {
      "name": "python3",
      "display_name": "Python 3"
    },
    "language_info": {
      "name": "python"
    },
    "gpuClass": "standard"
  },
  "cells": [
    {
      "cell_type": "code",
      "execution_count": null,
      "metadata": {
        "id": "NV3Q5jsGUHYF"
      },
      "outputs": [],
      "source": [
        "import numpy as np\n",
        "import numpy.linalg as lin\n",
        "import matplotlib.pyplot as plt\n",
        "import torch"
      ]
    },
    {
      "cell_type": "code",
      "source": [
        "from google.colab import drive # Link your drive if you are a colab user\n",
        "drive.mount('/content/drive') # Models in this HW take a long time to get trained and make sure to save it her"
      ],
      "metadata": {
        "colab": {
          "base_uri": "https://localhost:8080/"
        },
        "id": "F4BKuHHOUje7",
        "outputId": "37e1201a-73db-41fa-8ed1-fb6bdfe54c83"
      },
      "execution_count": null,
      "outputs": [
        {
          "output_type": "stream",
          "name": "stdout",
          "text": [
            "Mounted at /content/drive\n"
          ]
        }
      ]
    },
    {
      "cell_type": "code",
      "source": [
        "data = np.load('/content/drive/MyDrive/IDLProject/massive_training_data_distances.pickle', allow_pickle = True)"
      ],
      "metadata": {
        "id": "QtR7QkFSUWEO"
      },
      "execution_count": null,
      "outputs": []
    },
    {
      "cell_type": "code",
      "source": [
        "# (id) + (c1-> G, f, x, rho)  + (c2 -> G, f, x, rho) + (dist)"
      ],
      "metadata": {
        "id": "9Ot9gs4PUicD"
      },
      "execution_count": null,
      "outputs": []
    },
    {
      "cell_type": "markdown",
      "source": [
        "# Data Preparation"
      ],
      "metadata": {
        "id": "Hr0FO4pc5orC"
      }
    },
    {
      "cell_type": "code",
      "source": [
        "c1_xs = []\n",
        "c1_gs = []\n",
        "c2_xs = []\n",
        "c2_gs = []\n",
        "dists = []\n",
        "\n",
        "for i in range(len(data)):\n",
        "  # if len(np.array(data[i]['c1']['G'])) == 99 and len(np.array(data[i]['c2']['G'])) == 99:\n",
        "  c1_xs.append(np.array(data[i]['c1']['x']))\n",
        "  # c1_gs.append(np.array(data[i]['c1']['G']))\n",
        "  c2_xs.append(np.array(data[i]['c2']['x']))\n",
        "  # c2_gs.append(np.array(data[i]['c2']['G']))\n",
        "  dists.append(np.array(data[i]['dist']))\n",
        "\n",
        "\n",
        "c1_xs = np.array(c1_xs)\n",
        "# c1_gs = np.array(c1_gs)\n",
        "c2_xs = np.array(c2_xs)\n",
        "# c2_gs = np.array(c2_gs)\n",
        "dists = np.array([dists]).T"
      ],
      "metadata": {
        "id": "GzevMmR-ajw-"
      },
      "execution_count": null,
      "outputs": []
    },
    {
      "cell_type": "code",
      "source": [
        "c1_xs.shape"
      ],
      "metadata": {
        "colab": {
          "base_uri": "https://localhost:8080/"
        },
        "id": "ZCwtgRShuqrE",
        "outputId": "0ce793bd-4967-41dd-c32c-e3424a63ae3b"
      },
      "execution_count": null,
      "outputs": [
        {
          "output_type": "execute_result",
          "data": {
            "text/plain": [
              "(71649, 100, 2)"
            ]
          },
          "metadata": {},
          "execution_count": 5
        }
      ]
    },
    {
      "cell_type": "code",
      "source": [
        "c2_xs.shape"
      ],
      "metadata": {
        "colab": {
          "base_uri": "https://localhost:8080/"
        },
        "id": "JN_Z839xv4Js",
        "outputId": "90e026ef-0d97-4522-c410-5c81886bf979"
      },
      "execution_count": null,
      "outputs": [
        {
          "output_type": "execute_result",
          "data": {
            "text/plain": [
              "(71649, 100, 2)"
            ]
          },
          "metadata": {},
          "execution_count": 6
        }
      ]
    },
    {
      "cell_type": "code",
      "source": [
        "dists.shape"
      ],
      "metadata": {
        "colab": {
          "base_uri": "https://localhost:8080/"
        },
        "id": "tBTUPgOmv6Uw",
        "outputId": "1cf849d8-4a67-4d98-f9bd-645b225f4384"
      },
      "execution_count": null,
      "outputs": [
        {
          "output_type": "execute_result",
          "data": {
            "text/plain": [
              "(71649, 1)"
            ]
          },
          "metadata": {},
          "execution_count": 7
        }
      ]
    },
    {
      "cell_type": "code",
      "source": [
        "cxy_data = np.concatenate((c1_xs,c2_xs),axis=2)"
      ],
      "metadata": {
        "id": "uWEfLFqx4Mwl"
      },
      "execution_count": null,
      "outputs": []
    },
    {
      "cell_type": "code",
      "source": [
        "label = dists"
      ],
      "metadata": {
        "id": "w-ZzgA4n4e5c"
      },
      "execution_count": null,
      "outputs": []
    },
    {
      "cell_type": "code",
      "source": [
        "cxy_data.shape"
      ],
      "metadata": {
        "colab": {
          "base_uri": "https://localhost:8080/"
        },
        "id": "evLfBmtu5h1D",
        "outputId": "779271b1-a9b1-4753-edb8-4d03340f3cff"
      },
      "execution_count": null,
      "outputs": [
        {
          "output_type": "execute_result",
          "data": {
            "text/plain": [
              "(71649, 100, 4)"
            ]
          },
          "metadata": {},
          "execution_count": 12
        }
      ]
    },
    {
      "cell_type": "code",
      "source": [
        "label.shape"
      ],
      "metadata": {
        "colab": {
          "base_uri": "https://localhost:8080/"
        },
        "id": "5LV5MyF45iGG",
        "outputId": "2d411de2-e22d-49c7-cfe2-579399a336e3"
      },
      "execution_count": null,
      "outputs": [
        {
          "output_type": "execute_result",
          "data": {
            "text/plain": [
              "(71649, 1)"
            ]
          },
          "metadata": {},
          "execution_count": 13
        }
      ]
    },
    {
      "cell_type": "markdown",
      "source": [
        "# Data partition"
      ],
      "metadata": {
        "id": "xI35wTsV5tU4"
      }
    },
    {
      "cell_type": "code",
      "source": [
        "len_data = cxy_data.shape[0]\n",
        "train_len = int(0.7*len_data)\n",
        "val_len = int(0.1*len_data)\n",
        "test_len =  len_data - train_len - val_len\n",
        "generator = torch.Generator()\n",
        "generator.manual_seed(0)\n",
        "\n",
        "train_cxy_data, val_cxy_data, test_cxy_data = torch.utils.data.random_split(cxy_data, [train_len, val_len, test_len], generator=generator)\n",
        "train_label, val_label, test_label = torch.utils.data.random_split(label, [train_len, val_len, test_len], generator=generator)"
      ],
      "metadata": {
        "id": "RNUMQdoL6bW5"
      },
      "execution_count": null,
      "outputs": []
    },
    {
      "cell_type": "code",
      "source": [
        "print(len(train_cxy_data), len(train_label))\n",
        "print(len(val_cxy_data), len(val_label))\n",
        "print(len(test_cxy_data), len(test_label))"
      ],
      "metadata": {
        "colab": {
          "base_uri": "https://localhost:8080/"
        },
        "id": "ltEDU8YJ8cwa",
        "outputId": "5df8216a-3f04-4ab6-82dc-f99b6d609439"
      },
      "execution_count": null,
      "outputs": [
        {
          "output_type": "stream",
          "name": "stdout",
          "text": [
            "50154 50154\n",
            "7164 7164\n",
            "14331 14331\n"
          ]
        }
      ]
    },
    {
      "cell_type": "code",
      "source": [
        "train_cxy_data[1].shape"
      ],
      "metadata": {
        "colab": {
          "base_uri": "https://localhost:8080/"
        },
        "id": "2oD69pPxBfFO",
        "outputId": "e3a27108-296e-472e-f46f-ceb099c60c80"
      },
      "execution_count": null,
      "outputs": [
        {
          "output_type": "execute_result",
          "data": {
            "text/plain": [
              "(100, 4)"
            ]
          },
          "metadata": {},
          "execution_count": 37
        }
      ]
    },
    {
      "cell_type": "markdown",
      "source": [
        "# Dataloaders"
      ],
      "metadata": {
        "id": "sznrasQdDEa3"
      }
    },
    {
      "cell_type": "code",
      "source": [
        "class ShapeTrainDataset(torch.utils.data.Dataset):\n",
        "  def __init__(self, feature_data, label):\n",
        "    self.feature_data = feature_data\n",
        "    self.label = label\n",
        "  def __len__(self):\n",
        "    return len(self.feature_data)\n",
        "  def __getitem__(self, ind):\n",
        "    return self.feature_data[ind], self.label[ind]"
      ],
      "metadata": {
        "id": "4-aKhz7tAPnv"
      },
      "execution_count": null,
      "outputs": []
    },
    {
      "cell_type": "code",
      "source": [
        "class ShapeTestDataset(torch.utils.data.Dataset):\n",
        "  def __init__(self, feature_data):\n",
        "    self.feature_data = feature_data\n",
        "  def __len__(self):\n",
        "    return len(self.feature_data)\n",
        "  def __getitem__(self, ind):\n",
        "    return self.feature_data[ind]"
      ],
      "metadata": {
        "id": "REF9rbtHB1iG"
      },
      "execution_count": null,
      "outputs": []
    },
    {
      "cell_type": "code",
      "source": [
        "# Create objects for the dataset class\n",
        "train_data = ShapeTrainDataset(train_cxy_data, train_label) \n",
        "val_data = ShapeTrainDataset(val_cxy_data, val_label) \n",
        "test_data = ShapeTestDataset(test_cxy_data) "
      ],
      "metadata": {
        "id": "u0F-RDrbCN4n"
      },
      "execution_count": null,
      "outputs": []
    },
    {
      "cell_type": "code",
      "source": [
        "BATCH_SIZE = 64"
      ],
      "metadata": {
        "id": "SML8_-jhCsa7"
      },
      "execution_count": null,
      "outputs": []
    },
    {
      "cell_type": "code",
      "source": [
        "train_loader = torch.utils.data.DataLoader(train_data, num_workers= 10,batch_size=BATCH_SIZE, pin_memory= True,shuffle= True)\n",
        "val_loader = torch.utils.data.DataLoader(val_data, num_workers= 10, batch_size=BATCH_SIZE, pin_memory= True,shuffle= False)\n",
        "test_loader = torch.utils.data.DataLoader(test_data, num_workers= 2, batch_size=BATCH_SIZE, pin_memory= True,shuffle= False)"
      ],
      "metadata": {
        "colab": {
          "base_uri": "https://localhost:8080/"
        },
        "id": "5tN1bqCd_-VV",
        "outputId": "d0b24b2e-a40e-4da2-f950-3835a469c3cf"
      },
      "execution_count": null,
      "outputs": [
        {
          "output_type": "stream",
          "name": "stderr",
          "text": [
            "/usr/local/lib/python3.7/dist-packages/torch/utils/data/dataloader.py:566: UserWarning: This DataLoader will create 10 worker processes in total. Our suggested max number of worker in current system is 4, which is smaller than what this DataLoader is going to create. Please be aware that excessive worker creation might get DataLoader running slow or even freeze, lower the worker number to avoid potential slowness/freeze if necessary.\n",
            "  cpuset_checked))\n"
          ]
        }
      ]
    },
    {
      "cell_type": "code",
      "source": [
        "print(\"Batch size: \", BATCH_SIZE)\n",
        "print(\"Train dataset samples = {}, batches = {}\".format(train_data.__len__(), len(train_loader)))\n",
        "print(\"Val dataset samples = {}, batches = {}\".format(val_data.__len__(), len(val_loader)))\n",
        "print(\"Test dataset samples = {}, batches = {}\".format(test_data.__len__(), len(test_loader)))"
      ],
      "metadata": {
        "colab": {
          "base_uri": "https://localhost:8080/"
        },
        "id": "OLfS7ee3C-_C",
        "outputId": "998dc646-7f8a-4ce2-d1a2-cae36ff5e39a"
      },
      "execution_count": null,
      "outputs": [
        {
          "output_type": "stream",
          "name": "stdout",
          "text": [
            "Batch size:  64\n",
            "Train dataset samples = 50154, batches = 784\n",
            "Val dataset samples = 7164, batches = 112\n",
            "Test dataset samples = 14331, batches = 224\n"
          ]
        }
      ]
    }
  ]
}